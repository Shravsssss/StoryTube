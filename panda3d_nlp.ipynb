{
 "cells": [
  {
   "cell_type": "markdown",
   "metadata": {},
   "source": [
    "# Coref resolution"
   ]
  },
  {
   "cell_type": "code",
   "execution_count": 5,
   "metadata": {},
   "outputs": [
    {
     "name": "stdout",
     "output_type": "stream",
     "text": [
      "Clsuters:-\n",
      "[[0, 0], [9, 9], [20, 20]]\n",
      "[[6, 7], [17, 18]]\n",
      "\n",
      "\n",
      "\n",
      "Coref resolved:  Ana is a Graduate Student at UT Dallas. Ana loves working in Natural Language Processing at UT Dallas. Ana's hobbies include blogging, dancing and singing.\n"
     ]
    }
   ],
   "source": [
    "import pickle\n",
    "\n",
    "# load saved model\n",
    "with open('allen_coref' , 'rb') as f:\n",
    "    predictor = pickle.load(f)\n",
    "\n",
    "text = \"Ana is a Graduate Student at UT Dallas. She loves working in Natural Language Processing at the institute. Her hobbies include blogging, dancing and singing.\"\n",
    "\n",
    "\n",
    "prediction = predictor.predict(document=text)  # get prediction\n",
    "print(\"Clsuters:-\")\n",
    "for cluster in prediction['clusters']:\n",
    "    print(cluster)  # list of clusters (the indices of spaCy tokens)\n",
    "# Result: [[[0, 3], [26, 26]], [[34, 34], [50, 50]]]\n",
    "print('\\n\\n') #Newline\n",
    "\n",
    "coref_text = predictor.coref_resolved(text)\n",
    "\n",
    "print('Coref resolved: ', coref_text)  # resolved text\n",
    "# Result: Joseph Robinette Biden Jr. is an American politician who is the 46th and"
   ]
  },
  {
   "cell_type": "markdown",
   "metadata": {},
   "source": [
    "# SAO parsing"
   ]
  },
  {
   "cell_type": "code",
   "execution_count": 3,
   "metadata": {},
   "outputs": [
    {
     "name": "stdout",
     "output_type": "stream",
     "text": [
      "Collecting textacy\n",
      "  Downloading textacy-0.12.0-py3-none-any.whl (208 kB)\n",
      "Collecting jellyfish>=0.8.0\n",
      "  Downloading jellyfish-0.9.0-cp38-cp38-win_amd64.whl (26 kB)\n",
      "Collecting networkx>=2.0\n",
      "  Downloading networkx-2.8.6-py3-none-any.whl (2.0 MB)\n",
      "Collecting pyphen>=0.10.0\n",
      "  Downloading pyphen-0.13.0-py3-none-any.whl (2.0 MB)\n",
      "Requirement already satisfied: scikit-learn>=0.19.0 in c:\\users\\ujwal\\appdata\\local\\programs\\python\\python38\\lib\\site-packages (from textacy) (1.1.2)\n",
      "Requirement already satisfied: numpy>=1.17.0 in c:\\users\\ujwal\\appdata\\local\\programs\\python\\python38\\lib\\site-packages (from textacy) (1.23.2)\n",
      "Requirement already satisfied: requests>=2.10.0 in c:\\users\\ujwal\\appdata\\local\\programs\\python\\python38\\lib\\site-packages (from textacy) (2.28.1)\n",
      "Requirement already satisfied: tqdm>=4.19.6 in c:\\users\\ujwal\\appdata\\local\\programs\\python\\python38\\lib\\site-packages (from textacy) (4.64.0)\n",
      "Requirement already satisfied: cachetools>=4.0.0 in c:\\users\\ujwal\\appdata\\local\\programs\\python\\python38\\lib\\site-packages (from textacy) (5.2.0)\n",
      "Requirement already satisfied: joblib>=0.13.0 in c:\\users\\ujwal\\appdata\\local\\programs\\python\\python38\\lib\\site-packages (from textacy) (1.1.0)\n",
      "Requirement already satisfied: scipy>=0.17.0 in c:\\users\\ujwal\\appdata\\local\\programs\\python\\python38\\lib\\site-packages (from textacy) (1.9.1)\n",
      "Collecting cytoolz>=0.10.1\n",
      "  Downloading cytoolz-0.12.0-cp38-cp38-win_amd64.whl (330 kB)\n",
      "Requirement already satisfied: catalogue~=2.0 in c:\\users\\ujwal\\appdata\\local\\programs\\python\\python38\\lib\\site-packages (from textacy) (2.0.8)\n",
      "Requirement already satisfied: spacy>=3.0.0 in c:\\users\\ujwal\\appdata\\local\\programs\\python\\python38\\lib\\site-packages (from textacy) (3.3.1)\n",
      "Requirement already satisfied: threadpoolctl>=2.0.0 in c:\\users\\ujwal\\appdata\\local\\programs\\python\\python38\\lib\\site-packages (from scikit-learn>=0.19.0->textacy) (3.1.0)\n",
      "Requirement already satisfied: charset-normalizer<3,>=2 in c:\\users\\ujwal\\appdata\\local\\programs\\python\\python38\\lib\\site-packages (from requests>=2.10.0->textacy) (2.1.1)\n",
      "Requirement already satisfied: urllib3<1.27,>=1.21.1 in c:\\users\\ujwal\\appdata\\local\\programs\\python\\python38\\lib\\site-packages (from requests>=2.10.0->textacy) (1.26.12)\n",
      "Requirement already satisfied: certifi>=2017.4.17 in c:\\users\\ujwal\\appdata\\local\\programs\\python\\python38\\lib\\site-packages (from requests>=2.10.0->textacy) (2022.6.15)\n",
      "Requirement already satisfied: idna<4,>=2.5 in c:\\users\\ujwal\\appdata\\local\\programs\\python\\python38\\lib\\site-packages (from requests>=2.10.0->textacy) (3.3)\n",
      "Requirement already satisfied: colorama; platform_system == \"Windows\" in c:\\users\\ujwal\\appdata\\local\\programs\\python\\python38\\lib\\site-packages (from tqdm>=4.19.6->textacy) (0.4.5)\n",
      "Collecting toolz>=0.8.0\n",
      "  Downloading toolz-0.12.0-py3-none-any.whl (55 kB)\n",
      "Requirement already satisfied: preshed<3.1.0,>=3.0.2 in c:\\users\\ujwal\\appdata\\local\\programs\\python\\python38\\lib\\site-packages (from spacy>=3.0.0->textacy) (3.0.7)\n",
      "Requirement already satisfied: srsly<3.0.0,>=2.4.3 in c:\\users\\ujwal\\appdata\\local\\programs\\python\\python38\\lib\\site-packages (from spacy>=3.0.0->textacy) (2.4.4)\n",
      "Requirement already satisfied: spacy-legacy<3.1.0,>=3.0.9 in c:\\users\\ujwal\\appdata\\local\\programs\\python\\python38\\lib\\site-packages (from spacy>=3.0.0->textacy) (3.0.10)\n",
      "Requirement already satisfied: thinc<8.1.0,>=8.0.14 in c:\\users\\ujwal\\appdata\\local\\programs\\python\\python38\\lib\\site-packages (from spacy>=3.0.0->textacy) (8.0.17)\n",
      "Requirement already satisfied: spacy-loggers<2.0.0,>=1.0.0 in c:\\users\\ujwal\\appdata\\local\\programs\\python\\python38\\lib\\site-packages (from spacy>=3.0.0->textacy) (1.0.3)\n",
      "Requirement already satisfied: packaging>=20.0 in c:\\users\\ujwal\\appdata\\local\\programs\\python\\python38\\lib\\site-packages (from spacy>=3.0.0->textacy) (21.3)\n",
      "Requirement already satisfied: setuptools in c:\\users\\ujwal\\appdata\\local\\programs\\python\\python38\\lib\\site-packages (from spacy>=3.0.0->textacy) (49.2.1)\n",
      "Requirement already satisfied: blis<0.8.0,>=0.4.0 in c:\\users\\ujwal\\appdata\\local\\programs\\python\\python38\\lib\\site-packages (from spacy>=3.0.0->textacy) (0.7.8)\n",
      "Requirement already satisfied: murmurhash<1.1.0,>=0.28.0 in c:\\users\\ujwal\\appdata\\local\\programs\\python\\python38\\lib\\site-packages (from spacy>=3.0.0->textacy) (1.0.8)\n",
      "Requirement already satisfied: wasabi<1.1.0,>=0.9.1 in c:\\users\\ujwal\\appdata\\local\\programs\\python\\python38\\lib\\site-packages (from spacy>=3.0.0->textacy) (0.10.1)\n",
      "Requirement already satisfied: jinja2 in c:\\users\\ujwal\\appdata\\local\\programs\\python\\python38\\lib\\site-packages (from spacy>=3.0.0->textacy) (3.1.2)\n",
      "Requirement already satisfied: langcodes<4.0.0,>=3.2.0 in c:\\users\\ujwal\\appdata\\local\\programs\\python\\python38\\lib\\site-packages (from spacy>=3.0.0->textacy) (3.3.0)\n",
      "Requirement already satisfied: typer<0.5.0,>=0.3.0 in c:\\users\\ujwal\\appdata\\local\\programs\\python\\python38\\lib\\site-packages (from spacy>=3.0.0->textacy) (0.4.2)\n",
      "Requirement already satisfied: pathy>=0.3.5 in c:\\users\\ujwal\\appdata\\local\\programs\\python\\python38\\lib\\site-packages (from spacy>=3.0.0->textacy) (0.6.2)\n",
      "Requirement already satisfied: cymem<2.1.0,>=2.0.2 in c:\\users\\ujwal\\appdata\\local\\programs\\python\\python38\\lib\\site-packages (from spacy>=3.0.0->textacy) (2.0.6)\n",
      "Requirement already satisfied: pydantic!=1.8,!=1.8.1,<1.9.0,>=1.7.4 in c:\\users\\ujwal\\appdata\\local\\programs\\python\\python38\\lib\\site-packages (from spacy>=3.0.0->textacy) (1.8.2)\n",
      "Requirement already satisfied: pyparsing!=3.0.5,>=2.0.2 in c:\\users\\ujwal\\appdata\\local\\programs\\python\\python38\\lib\\site-packages (from packaging>=20.0->spacy>=3.0.0->textacy) (3.0.9)\n",
      "Requirement already satisfied: MarkupSafe>=2.0 in c:\\users\\ujwal\\appdata\\local\\programs\\python\\python38\\lib\\site-packages (from jinja2->spacy>=3.0.0->textacy) (2.1.1)\n",
      "Requirement already satisfied: click<9.0.0,>=7.1.1 in c:\\users\\ujwal\\appdata\\local\\programs\\python\\python38\\lib\\site-packages (from typer<0.5.0,>=0.3.0->spacy>=3.0.0->textacy) (8.1.3)\n",
      "Requirement already satisfied: smart-open<6.0.0,>=5.2.1 in c:\\users\\ujwal\\appdata\\local\\programs\\python\\python38\\lib\\site-packages (from pathy>=0.3.5->spacy>=3.0.0->textacy) (5.2.1)\n",
      "Requirement already satisfied: typing-extensions>=3.7.4.3 in c:\\users\\ujwal\\appdata\\local\\programs\\python\\python38\\lib\\site-packages (from pydantic!=1.8,!=1.8.1,<1.9.0,>=1.7.4->spacy>=3.0.0->textacy) (4.3.0)\n",
      "Installing collected packages: jellyfish, networkx, pyphen, toolz, cytoolz, textacy\n",
      "Successfully installed cytoolz-0.12.0 jellyfish-0.9.0 networkx-2.8.6 pyphen-0.13.0 textacy-0.12.0 toolz-0.12.0\n"
     ]
    },
    {
     "name": "stderr",
     "output_type": "stream",
     "text": [
      "WARNING: You are using pip version 20.2.1; however, version 22.2.2 is available.\n",
      "You should consider upgrading via the 'c:\\users\\ujwal\\appdata\\local\\programs\\python\\python38\\python.exe -m pip install --upgrade pip' command.\n"
     ]
    }
   ],
   "source": [
    "# !pip install textacy"
   ]
  },
  {
   "cell_type": "code",
   "execution_count": 6,
   "metadata": {},
   "outputs": [
    {
     "name": "stdout",
     "output_type": "stream",
     "text": [
      "SVOTriple(subject=[Ana], verb=[loves], object=[working, in, Natural, Language, Processing, at, UT, Dallas])\n",
      "SVOTriple(subject=[hobbies], verb=[include], object=[blogging, dancing, singing])\n"
     ]
    }
   ],
   "source": [
    "import spacy\n",
    "import textacy\n",
    "\n",
    "\n",
    "nlp = spacy.load('en_core_web_sm')\n",
    "text = nlp(coref_text)\n",
    "\n",
    "text_ext = textacy.extract.subject_verb_object_triples(text)\n",
    "for i in text_ext:\n",
    "    print(i)"
   ]
  },
  {
   "cell_type": "markdown",
   "metadata": {},
   "source": [
    "# NER"
   ]
  },
  {
   "cell_type": "code",
   "execution_count": 7,
   "metadata": {},
   "outputs": [
    {
     "name": "stdout",
     "output_type": "stream",
     "text": [
      "✔ Download and installation successful\n",
      "You can now load the package via spacy.load('en_core_web_sm')\n"
     ]
    }
   ],
   "source": [
    "import spacy \n",
    "import spacy.cli\n",
    "spacy.cli.download(\"en_core_web_sm\")"
   ]
  },
  {
   "cell_type": "code",
   "execution_count": 8,
   "metadata": {},
   "outputs": [],
   "source": [
    "from spacy import displacy\n",
    "\n",
    "nlp = spacy.load('en_core_web_sm')"
   ]
  },
  {
   "cell_type": "code",
   "execution_count": 11,
   "metadata": {},
   "outputs": [
    {
     "name": "stdout",
     "output_type": "stream",
     "text": [
      "[('Dallas', 32, 38, 'GPE')]\n"
     ]
    },
    {
     "data": {
      "text/html": [
       "<span class=\"tex2jax_ignore\"><div class=\"entities\" style=\"line-height: 2.5; direction: ltr\">Ana is a Graduate Student at UT \n",
       "<mark class=\"entity\" style=\"background: #feca74; padding: 0.45em 0.6em; margin: 0 0.25em; line-height: 1; border-radius: 0.35em;\">\n",
       "    Dallas\n",
       "    <span style=\"font-size: 0.8em; font-weight: bold; line-height: 1; border-radius: 0.35em; vertical-align: middle; margin-left: 0.5rem\">GPE</span>\n",
       "</mark>\n",
       ". She loves working in Natural Language Processing at the institute. Her hobbies include blogging, dancing and singing.</div></span>"
      ],
      "text/plain": [
       "<IPython.core.display.HTML object>"
      ]
     },
     "metadata": {},
     "output_type": "display_data"
    }
   ],
   "source": [
    "doc = nlp(text)\n",
    "\n",
    "ents = [(e.text, e.start_char, e.end_char, e.label_) for e in doc.ents]\n",
    "print(ents)\n",
    "# now we use displaycy function on doc2\n",
    "displacy.render(doc, style='ent', jupyter=True)"
   ]
  },
  {
   "cell_type": "code",
   "execution_count": null,
   "metadata": {},
   "outputs": [],
   "source": []
  }
 ],
 "metadata": {
  "kernelspec": {
   "display_name": "Python 3.8.6 64-bit",
   "language": "python",
   "name": "python3"
  },
  "language_info": {
   "codemirror_mode": {
    "name": "ipython",
    "version": 3
   },
   "file_extension": ".py",
   "mimetype": "text/x-python",
   "name": "python",
   "nbconvert_exporter": "python",
   "pygments_lexer": "ipython3",
   "version": "3.8.6"
  },
  "orig_nbformat": 4,
  "vscode": {
   "interpreter": {
    "hash": "cad05eecb019473b6c28b666f572254e31a088fe7d36a952694ef4aed7752c76"
   }
  }
 },
 "nbformat": 4,
 "nbformat_minor": 2
}
