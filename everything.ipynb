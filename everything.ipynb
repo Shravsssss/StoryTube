{
 "cells": [
  {
   "cell_type": "markdown",
   "metadata": {},
   "source": [
    "# Coref resolution"
   ]
  },
  {
   "cell_type": "code",
   "execution_count": 50,
   "metadata": {},
   "outputs": [
    {
     "name": "stdout",
     "output_type": "stream",
     "text": [
      "Clsuters:-\n",
      "[[0, 1], [5, 5]]\n",
      "\n",
      "\n",
      "\n",
      "Coref resolved:  Georgia University is good. Georgia University is bad\n"
     ]
    }
   ],
   "source": [
    "import pickle\n",
    "\n",
    "# load saved model\n",
    "with open('allen_coref' , 'rb') as f:\n",
    "    predictor = pickle.load(f)\n",
    "\n",
    "text = \"A cat is walking on a sunny day. It tripped over a stone. It died.\"\n",
    "\n",
    "prediction = predictor.predict(document=text)  # get prediction\n",
    "print(\"Clsuters:-\")\n",
    "for cluster in prediction['clusters']:\n",
    "    print(cluster)  # list of clusters (the indices of spaCy tokens)\n",
    "# Result: [[[0, 3], [26, 26]], [[34, 34], [50, 50]]]\n",
    "print('\\n\\n') #Newline\n",
    "\n",
    "coref_text = predictor.coref_resolved(text)\n",
    "\n",
    "print('Coref resolved: ', coref_text)  # resolved text\n",
    "# Result: Joseph Robinette Biden Jr. is an American politician who is the 46th and"
   ]
  },
  {
   "cell_type": "markdown",
   "metadata": {},
   "source": [
    "# SAO parsing"
   ]
  },
  {
   "cell_type": "code",
   "execution_count": 3,
   "metadata": {},
   "outputs": [],
   "source": [
    "# !pip install textacy"
   ]
  },
  {
   "cell_type": "code",
   "execution_count": 28,
   "metadata": {},
   "outputs": [
    {
     "name": "stdout",
     "output_type": "stream",
     "text": [
      "SVOTriple(subject=[cat], verb=[neared], object=[death])\n"
     ]
    }
   ],
   "source": [
    "import spacy\n",
    "import textacy\n",
    "\n",
    "\n",
    "nlp = spacy.load('en_core_web_sm')\n",
    "coref_text = \"A cat is walking on a sunny day. A cat tripped on a stone. A cat neared death.\"\n",
    "text = nlp(coref_text)\n",
    "\n",
    "sao = textacy.extract.subject_verb_object_triples(text)\n",
    "for i in sao:\n",
    "    print(i)"
   ]
  },
  {
   "cell_type": "code",
   "execution_count": 1,
   "metadata": {},
   "outputs": [
    {
     "name": "stderr",
     "output_type": "stream",
     "text": [
      "D:\\lib\\site-packages\\tqdm\\auto.py:22: TqdmWarning: IProgress not found. Please update jupyter and ipywidgets. See https://ipywidgets.readthedocs.io/en/stable/user_install.html\n",
      "  from .autonotebook import tqdm as notebook_tqdm\n"
     ]
    },
    {
     "name": "stdout",
     "output_type": "stream",
     "text": [
      "A cat is walk rapidly on a sunny day. A cat fall on a stone. A cat dead.\n",
      "[('A cat', 'walk'), ('A cat', 'fall')]\n"
     ]
    }
   ],
   "source": [
    "from subject_verb_object_extract import findSVOs, nlp\n",
    "coref_text = \"A cat is walk rapidly on a sunny day. A cat fall on a stone. A cat dead.\"\n",
    "tokens = nlp(coref_text)\n",
    "svos = findSVOs(tokens)\n",
    "print(coref_text)\n",
    "print(svos)"
   ]
  },
  {
   "cell_type": "code",
   "execution_count": 3,
   "metadata": {},
   "outputs": [
    {
     "name": "stderr",
     "output_type": "stream",
     "text": [
      "[nltk_data] Downloading package omw-1.4 to C:\\Users\\Sravya\n",
      "[nltk_data]     Yepuri\\AppData\\Roaming\\nltk_data...\n",
      "[nltk_data]   Package omw-1.4 is already up-to-date!\n",
      "[nltk_data] Downloading package wordnet to C:\\Users\\Sravya\n",
      "[nltk_data]     Yepuri\\AppData\\Roaming\\nltk_data...\n",
      "[nltk_data]   Package wordnet is already up-to-date!\n"
     ]
    }
   ],
   "source": [
    "import nltk\n",
    "nltk.download('omw-1.4')\n",
    "nltk.download('wordnet')\n",
    "from nltk.stem.wordnet import WordNetLemmatizer"
   ]
  },
  {
   "cell_type": "code",
   "execution_count": 4,
   "metadata": {},
   "outputs": [
    {
     "name": "stdout",
     "output_type": "stream",
     "text": [
      "walk\n",
      "fall\n"
     ]
    }
   ],
   "source": [
    "for svo in svos:\n",
    "    action = WordNetLemmatizer().lemmatize(svo[-1],'v')\n",
    "    print(action)"
   ]
  },
  {
   "cell_type": "code",
   "execution_count": 27,
   "metadata": {},
   "outputs": [],
   "source": [
    "# !pip install pygame"
   ]
  },
  {
   "cell_type": "code",
   "execution_count": 42,
   "metadata": {},
   "outputs": [
    {
     "name": "stdout",
     "output_type": "stream",
     "text": [
      "[<Surface(542x474x32 SW)>, <Surface(542x474x32 SW)>, <Surface(542x474x32 SW)>, <Surface(542x474x32 SW)>, <Surface(542x474x32 SW)>, <Surface(542x474x32 SW)>, <Surface(542x474x32 SW)>, <Surface(542x474x32 SW)>, <Surface(542x474x32 SW)>, <Surface(542x474x32 SW)>, <Surface(542x474x32 SW)>, <Surface(542x474x32 SW)>, <Surface(542x474x32 SW)>, <Surface(542x474x32 SW)>, <Surface(542x474x32 SW)>, <Surface(542x474x32 SW)>, <Surface(542x474x32 SW)>, <Surface(542x474x32 SW)>]\n"
     ]
    }
   ],
   "source": [
    "import pygame\n",
    "import glob\n",
    " \n",
    "SIZE = WIDTH, HEIGHT = 600, 600 #the width and height of our screen\n",
    "FPS = 9 #Frames per second\n",
    " \n",
    "class MySprite(pygame.sprite.Sprite):\n",
    "    def __init__(self):\n",
    "        super(MySprite, self).__init__()\n",
    "        \n",
    "        self.images = []\n",
    "        # self.images = [pygame.image.load(img) for img in glob.glob(\"pygame\\\\cat\\\\*.png\")]\n",
    "        for svo in svos:\n",
    "            action = WordNetLemmatizer().lemmatize(svo[-1],'v')\n",
    "\n",
    "            self.images.extend([pygame.image.load(img) for img in glob.glob(\"pygame\\\\cat\\\\\" + action + \"*.png\")])\n",
    "            \n",
    "        print(self.images)\n",
    "        self.index = 0\n",
    "        self.rect = pygame.Rect(5, 5, 150, 198)\n",
    " \n",
    "    def update(self):\n",
    "        if self.index >= len(self.images):\n",
    "            self.index = 0\n",
    "        self.image = self.images[self.index]\n",
    "        self.index += 1\n",
    " \n",
    "def main():\n",
    "    pygame.init()\n",
    "    screen = pygame.display.set_mode(SIZE)\n",
    "    pygame.display.set_caption(\"Trace\")\n",
    "    my_sprite = MySprite()\n",
    "    my_group = pygame.sprite.Group(my_sprite)\n",
    "    clock = pygame.time.Clock()\n",
    "    loop = 1\n",
    "    while loop:\n",
    "        for event in pygame.event.get():\n",
    "            if event.type == pygame.QUIT:\n",
    "                loop = 0\n",
    " \n",
    "        my_group.update()\n",
    "        screen.fill((0,0,0))\n",
    "        my_group.draw(screen)\n",
    "        pygame.display.update()\n",
    "        clock.tick(FPS)\n",
    "    pygame.quit()\n",
    " \n",
    "if __name__ == '__main__':\n",
    "    main()"
   ]
  },
  {
   "cell_type": "markdown",
   "metadata": {},
   "source": [
    "# NER"
   ]
  },
  {
   "cell_type": "code",
   "execution_count": 45,
   "metadata": {},
   "outputs": [],
   "source": [
    "import spacy \n",
    "import spacy.cli\n",
    "# Download following once\n",
    "#spacy.cli.download(\"en_core_web_sm\")"
   ]
  },
  {
   "cell_type": "code",
   "execution_count": 46,
   "metadata": {},
   "outputs": [],
   "source": [
    "from spacy import displacy\n",
    "\n",
    "nlp = spacy.load('en_core_web_sm')"
   ]
  },
  {
   "cell_type": "code",
   "execution_count": 47,
   "metadata": {},
   "outputs": [
    {
     "name": "stdout",
     "output_type": "stream",
     "text": [
      "[('CS', 24, 26, 'GPE'), ('MIT', 48, 51, 'ORG')]\n"
     ]
    },
    {
     "data": {
      "text/html": [
       "<span class=\"tex2jax_ignore\"><div class=\"entities\" style=\"line-height: 2.5; direction: ltr\">Victoria was a major in \n",
       "<mark class=\"entity\" style=\"background: #feca74; padding: 0.45em 0.6em; margin: 0 0.25em; line-height: 1; border-radius: 0.35em;\">\n",
       "    CS\n",
       "    <span style=\"font-size: 0.8em; font-weight: bold; line-height: 1; border-radius: 0.35em; vertical-align: middle; margin-left: 0.5rem\">GPE</span>\n",
       "</mark>\n",
       ". Victoria studies at \n",
       "<mark class=\"entity\" style=\"background: #7aecec; padding: 0.45em 0.6em; margin: 0 0.25em; line-height: 1; border-radius: 0.35em;\">\n",
       "    MIT\n",
       "    <span style=\"font-size: 0.8em; font-weight: bold; line-height: 1; border-radius: 0.35em; vertical-align: middle; margin-left: 0.5rem\">ORG</span>\n",
       "</mark>\n",
       ".</div></span>"
      ],
      "text/plain": [
       "<IPython.core.display.HTML object>"
      ]
     },
     "metadata": {},
     "output_type": "display_data"
    }
   ],
   "source": [
    "text = \"Victoria was a major in CS. Victoria studies at MIT.\"\n",
    "doc = nlp(text)\n",
    "\n",
    "ents = [(e.text, e.start_char, e.end_char, e.label_) for e in doc.ents]\n",
    "print(ents)\n",
    "# now we use displaycy function on doc2\n",
    "displacy.render(doc, style='ent', jupyter=True)"
   ]
  },
  {
   "cell_type": "code",
   "execution_count": null,
   "metadata": {},
   "outputs": [],
   "source": []
  }
 ],
 "metadata": {
  "kernelspec": {
   "display_name": "Python 3.9.5 64-bit",
   "language": "python",
   "name": "python3"
  },
  "language_info": {
   "codemirror_mode": {
    "name": "ipython",
    "version": 3
   },
   "file_extension": ".py",
   "mimetype": "text/x-python",
   "name": "python",
   "nbconvert_exporter": "python",
   "pygments_lexer": "ipython3",
   "version": "3.9.5"
  },
  "orig_nbformat": 4,
  "vscode": {
   "interpreter": {
    "hash": "3440fa40ac2c39878b83ee7a6e81824601a62799733fc81e385c4ef9c8700d77"
   }
  }
 },
 "nbformat": 4,
 "nbformat_minor": 2
}
