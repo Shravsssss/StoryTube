{
 "cells": [
  {
   "cell_type": "markdown",
   "metadata": {},
   "source": [
    "# Coref resolution"
   ]
  },
  {
   "cell_type": "code",
   "execution_count": 1,
   "metadata": {},
   "outputs": [
    {
     "name": "stderr",
     "output_type": "stream",
     "text": [
      "c:\\Python39\\lib\\site-packages\\tqdm\\auto.py:22: TqdmWarning: IProgress not found. Please update jupyter and ipywidgets. See https://ipywidgets.readthedocs.io/en/stable/user_install.html\n",
      "  from .autonotebook import tqdm as notebook_tqdm\n"
     ]
    },
    {
     "name": "stdout",
     "output_type": "stream",
     "text": [
      "Clsuters:-\n",
      "[[0, 1], [5, 5], [15, 15]]\n",
      "[[18, 18], [23, 23]]\n",
      "\n",
      "\n",
      "\n",
      "Coref resolved:  A cat is walking. A cat tripped and got hurt fell on a stone. A cat died. Dog just walked past. Dog died.\n"
     ]
    }
   ],
   "source": [
    "import pickle\n",
    "\n",
    "# load saved model\n",
    "with open('allen_coref' , 'rb') as f:\n",
    "    predictor = pickle.load(f)\n",
    "\n",
    "text = \"A cat is walking. It tripped and got hurt fell on a stone. It died. Dog just walked past. It died.\"\n",
    "\n",
    "prediction = predictor.predict(document=text)  # get prediction\n",
    "print(\"Clsuters:-\")\n",
    "for cluster in prediction['clusters']:\n",
    "    print(cluster)  # list of clusters (the indices of spaCy tokens)\n",
    "# Result: [[[0, 3], [26, 26]], [[34, 34], [50, 50]]]\n",
    "print('\\n\\n') #Newline\n",
    "\n",
    "coref_text = predictor.coref_resolved(text)\n",
    "\n",
    "print('Coref resolved: ', coref_text)  # resolved text\n",
    "# Result: Joseph Robinette Biden Jr. is an American politician who is the 46th and"
   ]
  },
  {
   "cell_type": "markdown",
   "metadata": {},
   "source": [
    "# SAO parsing"
   ]
  },
  {
   "cell_type": "code",
   "execution_count": 2,
   "metadata": {},
   "outputs": [],
   "source": [
    "# !pip install textacy"
   ]
  },
  {
   "cell_type": "code",
   "execution_count": 3,
   "metadata": {},
   "outputs": [
    {
     "name": "stderr",
     "output_type": "stream",
     "text": [
      "C:\\Users\\shour\\AppData\\Roaming\\Python\\Python39\\site-packages\\spacy\\util.py:837: UserWarning: [W095] Model 'en_core_web_sm' (3.4.0) was trained with spaCy v3.4 and may not be 100% compatible with the current version (3.3.1). If you see errors or degraded performance, download a newer compatible model or retrain your custom model with the current spaCy version. For more details and available updates, run: python -m spacy validate\n",
      "  warnings.warn(warn_msg)\n"
     ]
    },
    {
     "name": "stdout",
     "output_type": "stream",
     "text": [
      "A cat is walking. A cat tripped and got hurt fell on a stone. A cat died. Dog just walked past. Dog died.\n",
      "[('A cat', 'walking'), ('A cat', 'died'), ('Dog', 'walked'), ('Dog', 'died')]\n"
     ]
    }
   ],
   "source": [
    "from subject_verb_object_extract import findSVOs, nlp\n",
    "# coref_text = \"A cat is walk rapidly on a sunny day. A cat fall on a stone. A cat dead\"\n",
    "tokens = nlp(coref_text)\n",
    "SVOs = findSVOs(tokens)\n",
    "print(coref_text)\n",
    "print(SVOs)"
   ]
  },
  {
   "cell_type": "code",
   "execution_count": 4,
   "metadata": {},
   "outputs": [
    {
     "name": "stdout",
     "output_type": "stream",
     "text": [
      "{'cat': ['walking', 'died'], 'Dog': ['walked', 'died']}\n",
      "['cat', 'Dog']\n"
     ]
    }
   ],
   "source": [
    "from nltk.corpus import stopwords\n",
    "from collections import defaultdict\n",
    "from nltk.tokenize import word_tokenize\n",
    "  \n",
    "stop_words = set(stopwords.words('english'))\n",
    "svos = defaultdict(list)\n",
    "\n",
    "for svo in SVOs:  \n",
    "    word_tokens = word_tokenize(svo[0])\n",
    "    filtered_sentence = [w for w in word_tokens if not w.lower() in stop_words]\n",
    "    svos[\"\".join(filtered_sentence)].append(svo[1])\n",
    "    \n",
    "svos = dict(svos)\n",
    "print(svos)\n",
    "\n",
    "charcaters = list(svos.keys())\n",
    "print(charcaters)"
   ]
  },
  {
   "cell_type": "code",
   "execution_count": 5,
   "metadata": {},
   "outputs": [],
   "source": [
    "from nltk.stem.snowball import SnowballStemmer\n",
    "stemmer = SnowballStemmer(\"english\")\n",
    "\n",
    "actions = ['dead', 'fall', 'hurt', 'idle', 'jump', 'run', 'slide', 'walk']\n",
    "#word2vec similarity between the incoming action vs the ones we have in list of actions and then set a threshold and execute the action based on it"
   ]
  },
  {
   "cell_type": "code",
   "execution_count": 6,
   "metadata": {},
   "outputs": [
    {
     "name": "stderr",
     "output_type": "stream",
     "text": [
      "[nltk_data] Downloading package omw-1.4 to\n",
      "[nltk_data]     C:\\Users\\shour\\AppData\\Roaming\\nltk_data...\n",
      "[nltk_data]   Package omw-1.4 is already up-to-date!\n",
      "[nltk_data] Downloading package wordnet to\n",
      "[nltk_data]     C:\\Users\\shour\\AppData\\Roaming\\nltk_data...\n",
      "[nltk_data]   Package wordnet is already up-to-date!\n"
     ]
    }
   ],
   "source": [
    "import nltk\n",
    "nltk.download('omw-1.4')\n",
    "nltk.download('wordnet')\n",
    "from nltk.stem.wordnet import WordNetLemmatizer"
   ]
  },
  {
   "cell_type": "code",
   "execution_count": 10,
   "metadata": {},
   "outputs": [
    {
     "name": "stdout",
     "output_type": "stream",
     "text": [
      "walk\n",
      "die\n",
      "walk\n",
      "die\n",
      "{'cat': ['walking', 'died'], 'Dog': ['walked', 'died']}\n"
     ]
    }
   ],
   "source": [
    "import itertools\n",
    "for actions in list(itertools.chain(*svos.values())):\n",
    "    action = WordNetLemmatizer().lemmatize(actions,'v')\n",
    "    print(action)\n",
    "\n",
    "print(svos)\n"
   ]
  },
  {
   "cell_type": "code",
   "execution_count": 8,
   "metadata": {},
   "outputs": [],
   "source": [
    "# !pip install pygame"
   ]
  },
  {
   "cell_type": "code",
   "execution_count": 13,
   "metadata": {},
   "outputs": [
    {
     "name": "stdout",
     "output_type": "stream",
     "text": [
      "walk\n",
      "die\n",
      "[<Surface(200x200x32 SW)>, <Surface(200x200x32 SW)>, <Surface(200x200x32 SW)>, <Surface(200x200x32 SW)>, <Surface(200x200x32 SW)>, <Surface(200x200x32 SW)>, <Surface(200x200x32 SW)>, <Surface(200x200x32 SW)>, <Surface(200x200x32 SW)>, <Surface(200x200x32 SW)>, <Surface(200x200x32 SW)>, <Surface(200x200x32 SW)>, <Surface(200x200x32 SW)>, <Surface(200x200x32 SW)>, <Surface(200x200x32 SW)>, <Surface(200x200x32 SW)>, <Surface(200x200x32 SW)>, <Surface(200x200x32 SW)>, <Surface(200x200x32 SW)>, <Surface(200x200x32 SW)>]\n",
      "walk\n",
      "die\n",
      "[<Surface(200x200x32 SW)>, <Surface(200x200x32 SW)>, <Surface(200x200x32 SW)>, <Surface(200x200x32 SW)>, <Surface(200x200x32 SW)>, <Surface(200x200x32 SW)>, <Surface(200x200x32 SW)>, <Surface(200x200x32 SW)>, <Surface(200x200x32 SW)>, <Surface(200x200x32 SW)>, <Surface(200x200x32 SW)>, <Surface(200x200x32 SW)>, <Surface(200x200x32 SW)>, <Surface(200x200x32 SW)>, <Surface(200x200x32 SW)>, <Surface(200x200x32 SW)>, <Surface(200x200x32 SW)>, <Surface(200x200x32 SW)>, <Surface(200x200x32 SW)>, <Surface(200x200x32 SW)>]\n"
     ]
    },
    {
     "ename": "IndexError",
     "evalue": "list index out of range",
     "output_type": "error",
     "traceback": [
      "\u001b[1;31m---------------------------------------------------------------------------\u001b[0m",
      "\u001b[1;31mIndexError\u001b[0m                                Traceback (most recent call last)",
      "\u001b[1;32md:\\Documents\\PESU\\capstone\\code\\StoryTube\\everything.ipynb Cell 11\u001b[0m in \u001b[0;36m<cell line: 75>\u001b[1;34m()\u001b[0m\n\u001b[0;32m     <a href='vscode-notebook-cell:/d%3A/Documents/PESU/capstone/code/StoryTube/everything.ipynb#X13sZmlsZQ%3D%3D?line=72'>73</a>\u001b[0m     pygame\u001b[39m.\u001b[39mquit()\n\u001b[0;32m     <a href='vscode-notebook-cell:/d%3A/Documents/PESU/capstone/code/StoryTube/everything.ipynb#X13sZmlsZQ%3D%3D?line=74'>75</a>\u001b[0m \u001b[39mif\u001b[39;00m \u001b[39m__name__\u001b[39m \u001b[39m==\u001b[39m \u001b[39m'\u001b[39m\u001b[39m__main__\u001b[39m\u001b[39m'\u001b[39m:\n\u001b[1;32m---> <a href='vscode-notebook-cell:/d%3A/Documents/PESU/capstone/code/StoryTube/everything.ipynb#X13sZmlsZQ%3D%3D?line=75'>76</a>\u001b[0m     main()\n",
      "\u001b[1;32md:\\Documents\\PESU\\capstone\\code\\StoryTube\\everything.ipynb Cell 11\u001b[0m in \u001b[0;36mmain\u001b[1;34m()\u001b[0m\n\u001b[0;32m     <a href='vscode-notebook-cell:/d%3A/Documents/PESU/capstone/code/StoryTube/everything.ipynb#X13sZmlsZQ%3D%3D?line=66'>67</a>\u001b[0m screen\u001b[39m.\u001b[39mblit(bg, (\u001b[39m0\u001b[39m, \u001b[39m0\u001b[39m))\n\u001b[0;32m     <a href='vscode-notebook-cell:/d%3A/Documents/PESU/capstone/code/StoryTube/everything.ipynb#X13sZmlsZQ%3D%3D?line=68'>69</a>\u001b[0m \u001b[39mfor\u001b[39;00m i \u001b[39min\u001b[39;00m chars:\n\u001b[1;32m---> <a href='vscode-notebook-cell:/d%3A/Documents/PESU/capstone/code/StoryTube/everything.ipynb#X13sZmlsZQ%3D%3D?line=69'>70</a>\u001b[0m     i\u001b[39m.\u001b[39;49mupdate()        \n\u001b[0;32m     <a href='vscode-notebook-cell:/d%3A/Documents/PESU/capstone/code/StoryTube/everything.ipynb#X13sZmlsZQ%3D%3D?line=70'>71</a>\u001b[0m pygame\u001b[39m.\u001b[39mdisplay\u001b[39m.\u001b[39mupdate()\n\u001b[0;32m     <a href='vscode-notebook-cell:/d%3A/Documents/PESU/capstone/code/StoryTube/everything.ipynb#X13sZmlsZQ%3D%3D?line=71'>72</a>\u001b[0m clock\u001b[39m.\u001b[39mtick(FPS)\n",
      "\u001b[1;32md:\\Documents\\PESU\\capstone\\code\\StoryTube\\everything.ipynb Cell 11\u001b[0m in \u001b[0;36mMySprite.update\u001b[1;34m(self)\u001b[0m\n\u001b[0;32m     <a href='vscode-notebook-cell:/d%3A/Documents/PESU/capstone/code/StoryTube/everything.ipynb#X13sZmlsZQ%3D%3D?line=30'>31</a>\u001b[0m \u001b[39mif\u001b[39;00m \u001b[39mself\u001b[39m\u001b[39m.\u001b[39mindex \u001b[39m>\u001b[39m\u001b[39m=\u001b[39m \u001b[39mlen\u001b[39m(\u001b[39mself\u001b[39m\u001b[39m.\u001b[39mimages):\n\u001b[0;32m     <a href='vscode-notebook-cell:/d%3A/Documents/PESU/capstone/code/StoryTube/everything.ipynb#X13sZmlsZQ%3D%3D?line=31'>32</a>\u001b[0m     pygame\u001b[39m.\u001b[39mquit()\n\u001b[1;32m---> <a href='vscode-notebook-cell:/d%3A/Documents/PESU/capstone/code/StoryTube/everything.ipynb#X13sZmlsZQ%3D%3D?line=32'>33</a>\u001b[0m \u001b[39mself\u001b[39m\u001b[39m.\u001b[39mimage \u001b[39m=\u001b[39m \u001b[39mself\u001b[39;49m\u001b[39m.\u001b[39;49mimages[\u001b[39mself\u001b[39;49m\u001b[39m.\u001b[39;49mindex]\n\u001b[0;32m     <a href='vscode-notebook-cell:/d%3A/Documents/PESU/capstone/code/StoryTube/everything.ipynb#X13sZmlsZQ%3D%3D?line=33'>34</a>\u001b[0m \u001b[39mself\u001b[39m\u001b[39m.\u001b[39mindex \u001b[39m+\u001b[39m\u001b[39m=\u001b[39m \u001b[39m1\u001b[39m\n\u001b[0;32m     <a href='vscode-notebook-cell:/d%3A/Documents/PESU/capstone/code/StoryTube/everything.ipynb#X13sZmlsZQ%3D%3D?line=35'>36</a>\u001b[0m \u001b[39mif\u001b[39;00m \u001b[39mself\u001b[39m\u001b[39m.\u001b[39mcounter \u001b[39m==\u001b[39m \u001b[39m880\u001b[39m:\n",
      "\u001b[1;31mIndexError\u001b[0m: list index out of range"
     ]
    }
   ],
   "source": [
    "import pygame\n",
    "import glob\n",
    "from time import sleep\n",
    " \n",
    "SIZE = WIDTH, HEIGHT = 1280, 720 #the width and height of our screen\n",
    "FPS = 9 #Frames per second\n",
    "\n",
    "screen = pygame.display.set_mode(SIZE)\n",
    "bg = pygame.transform.scale(pygame.image.load('pygame\\sunny_day.png') , SIZE)\n",
    " \n",
    "class MySprite(pygame.sprite.Sprite):\n",
    "    def __init__(self, char, x, y):\n",
    "        super(MySprite, self).__init__()\n",
    "        \n",
    "        self.images = []\n",
    "        # self.images = [pygame.image.load(img) for img in glob.glob(\"pygame\\\\cat\\\\*.png\")]\n",
    "        for action in svos[char]:\n",
    "            action = stemmer.stem(action)\n",
    "            print(action)\n",
    "\n",
    "            self.images.extend([pygame.transform.scale(pygame.image.load(img) , (200,200)) for img in glob.glob(\"pygame\\\\\" + char + \"\\\\\" + action + \"*.png\")])\n",
    "            \n",
    "        print(self.images)\n",
    "        self.index = 0\n",
    "        self.counter = 0\n",
    "        self.dir = 'r'\n",
    "        self.x = x\n",
    "        self.y = y        \n",
    " \n",
    "    def update(self):\n",
    "        if self.index >= len(self.images):\n",
    "            pygame.quit()\n",
    "        self.image = self.images[self.index]\n",
    "        self.index += 1\n",
    "\n",
    "        if self.counter == 880:\n",
    "            self.dir = 'l'\n",
    "        elif self.counter == 0:\n",
    "            self.dir = 'r'\n",
    "\n",
    "        if self.dir == 'r':             \n",
    "            screen.blit(self.image, ((self.x + self.counter) % 880, self.y))            \n",
    "            self.counter += 10\n",
    "        else:\n",
    "            self.image = pygame.transform.flip(self.image, True, False)\n",
    "            self.counter -= 10\n",
    "            screen.blit(self.image, ((self.x + self.counter) % 880, self.y)) \n",
    "        \n",
    " \n",
    "def main():\n",
    "    pygame.init()\n",
    "    pygame.display.set_caption(\"Trace\")\n",
    "    chars = []\n",
    "    for i in range(len(charcaters)):\n",
    "        chars.append(MySprite(charcaters[i], (200 * i), 350))\n",
    "    # my_group = pygame.sprite.Group(my_sprite)\n",
    "    clock = pygame.time.Clock()\n",
    "    \n",
    "    loop = 1\n",
    "    while loop:     \n",
    "\n",
    "        for event in pygame.event.get():\n",
    "            if event.type == pygame.QUIT:\n",
    "                loop = 0 \n",
    "        \n",
    "        screen.fill((0,0,0))        \n",
    "        screen.blit(bg, (0, 0))\n",
    "\n",
    "        for i in chars:\n",
    "            i.update()        \n",
    "        pygame.display.update()\n",
    "        clock.tick(FPS)\n",
    "    pygame.quit()\n",
    " \n",
    "if __name__ == '__main__':\n",
    "    main()"
   ]
  },
  {
   "cell_type": "markdown",
   "metadata": {},
   "source": [
    "# NER"
   ]
  },
  {
   "cell_type": "code",
   "execution_count": null,
   "metadata": {},
   "outputs": [],
   "source": [
    "import spacy \n",
    "import spacy.cli\n",
    "# Download following once\n",
    "#spacy.cli.download(\"en_core_web_sm\")"
   ]
  },
  {
   "cell_type": "code",
   "execution_count": null,
   "metadata": {},
   "outputs": [],
   "source": [
    "from spacy import displacy\n",
    "\n",
    "nlp = spacy.load('en_core_web_sm')"
   ]
  },
  {
   "cell_type": "code",
   "execution_count": null,
   "metadata": {},
   "outputs": [
    {
     "name": "stdout",
     "output_type": "stream",
     "text": [
      "[('CS', 24, 26, 'ORG'), ('MIT', 48, 51, 'ORG')]\n"
     ]
    },
    {
     "data": {
      "text/html": [
       "<span class=\"tex2jax_ignore\"><div class=\"entities\" style=\"line-height: 2.5; direction: ltr\">Victoria was a major in \n",
       "<mark class=\"entity\" style=\"background: #7aecec; padding: 0.45em 0.6em; margin: 0 0.25em; line-height: 1; border-radius: 0.35em;\">\n",
       "    CS\n",
       "    <span style=\"font-size: 0.8em; font-weight: bold; line-height: 1; border-radius: 0.35em; vertical-align: middle; margin-left: 0.5rem\">ORG</span>\n",
       "</mark>\n",
       ". Victoria studies at \n",
       "<mark class=\"entity\" style=\"background: #7aecec; padding: 0.45em 0.6em; margin: 0 0.25em; line-height: 1; border-radius: 0.35em;\">\n",
       "    MIT\n",
       "    <span style=\"font-size: 0.8em; font-weight: bold; line-height: 1; border-radius: 0.35em; vertical-align: middle; margin-left: 0.5rem\">ORG</span>\n",
       "</mark>\n",
       ".</div></span>"
      ],
      "text/plain": [
       "<IPython.core.display.HTML object>"
      ]
     },
     "metadata": {},
     "output_type": "display_data"
    }
   ],
   "source": [
    "text = \"Victoria was a major in CS. Victoria studies at MIT.\"\n",
    "doc = nlp(text)\n",
    "\n",
    "ents = [(e.text, e.start_char, e.end_char, e.label_) for e in doc.ents]\n",
    "print(ents)\n",
    "# now we use displaycy function on doc2\n",
    "displacy.render(doc, style='ent', jupyter=True)"
   ]
  },
  {
   "cell_type": "code",
   "execution_count": null,
   "metadata": {},
   "outputs": [],
   "source": []
  }
 ],
 "metadata": {
  "kernelspec": {
   "display_name": "Python 3.9.0 64-bit",
   "language": "python",
   "name": "python3"
  },
  "language_info": {
   "codemirror_mode": {
    "name": "ipython",
    "version": 3
   },
   "file_extension": ".py",
   "mimetype": "text/x-python",
   "name": "python",
   "nbconvert_exporter": "python",
   "pygments_lexer": "ipython3",
   "version": "3.9.0"
  },
  "orig_nbformat": 4,
  "vscode": {
   "interpreter": {
    "hash": "81794d4967e6c3204c66dcd87b604927b115b27c00565d3d43f05ba2f3a2cb0d"
   }
  }
 },
 "nbformat": 4,
 "nbformat_minor": 2
}
