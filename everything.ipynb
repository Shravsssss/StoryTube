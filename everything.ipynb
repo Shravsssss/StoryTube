{
 "cells": [
  {
   "cell_type": "markdown",
   "metadata": {},
   "source": [
    "# Coref resolution"
   ]
  },
  {
   "cell_type": "code",
   "execution_count": 6,
   "metadata": {},
   "outputs": [
    {
     "name": "stdout",
     "output_type": "stream",
     "text": [
      "Clsuters:-\n",
      "[[0, 1], [9, 9], [17, 17]]\n",
      "\n",
      "\n",
      "\n",
      "Coref resolved:  A cat is walking on a sunny day. A cat tripped and fell on a stone. A cat died.\n"
     ]
    }
   ],
   "source": [
    "import pickle\n",
    "\n",
    "# load saved model\n",
    "with open('allen_coref' , 'rb') as f:\n",
    "    predictor = pickle.load(f)\n",
    "\n",
    "text = \"A cat is walking on a sunny day. It tripped and fell on a stone. It died.\"\n",
    "\n",
    "prediction = predictor.predict(document=text)  # get prediction\n",
    "print(\"Clsuters:-\")\n",
    "for cluster in prediction['clusters']:\n",
    "    print(cluster)  # list of clusters (the indices of spaCy tokens)\n",
    "# Result: [[[0, 3], [26, 26]], [[34, 34], [50, 50]]]\n",
    "print('\\n\\n') #Newline\n",
    "\n",
    "coref_text = predictor.coref_resolved(text)\n",
    "\n",
    "print('Coref resolved: ', coref_text)  # resolved text\n",
    "# Result: Joseph Robinette Biden Jr. is an American politician who is the 46th and"
   ]
  },
  {
   "cell_type": "markdown",
   "metadata": {},
   "source": [
    "# SAO parsing"
   ]
  },
  {
   "cell_type": "code",
   "execution_count": 3,
   "metadata": {},
   "outputs": [],
   "source": [
    "# !pip install textacy"
   ]
  },
  {
   "cell_type": "code",
   "execution_count": 7,
   "metadata": {},
   "outputs": [
    {
     "name": "stdout",
     "output_type": "stream",
     "text": [
      "A cat is walking on a sunny day. A cat tripped and fell on a stone. A cat died.\n",
      "[('A cat', 'walking'), ('A cat', 'died')]\n"
     ]
    }
   ],
   "source": [
    "from subject_verb_object_extract import findSVOs, nlp\n",
    "# coref_text = \"A cat is walk rapidly on a sunny day. A cat fall on a stone. A cat dead\"\n",
    "tokens = nlp(coref_text)\n",
    "svos = findSVOs(tokens)\n",
    "print(coref_text)\n",
    "print(svos)"
   ]
  },
  {
   "cell_type": "code",
   "execution_count": 4,
   "metadata": {},
   "outputs": [],
   "source": [
    "from nltk.stem.snowball import SnowballStemmer\n",
    "stemmer = SnowballStemmer(\"english\")\n",
    "\n",
    "actions = ['dead', 'fall', 'hurt', 'idle', 'jump', 'run', 'slide', 'walk']"
   ]
  },
  {
   "cell_type": "code",
   "execution_count": 27,
   "metadata": {},
   "outputs": [],
   "source": [
    "# !pip install pygame"
   ]
  },
  {
   "cell_type": "code",
   "execution_count": 9,
   "metadata": {},
   "outputs": [
    {
     "name": "stdout",
     "output_type": "stream",
     "text": [
      "walk\n",
      "die\n",
      "[<Surface(542x474x32 SW)>, <Surface(542x474x32 SW)>, <Surface(542x474x32 SW)>, <Surface(542x474x32 SW)>, <Surface(542x474x32 SW)>, <Surface(542x474x32 SW)>, <Surface(542x474x32 SW)>, <Surface(542x474x32 SW)>, <Surface(542x474x32 SW)>, <Surface(542x474x32 SW)>, <Surface(556x504x32 SW)>, <Surface(556x504x32 SW)>, <Surface(556x504x32 SW)>, <Surface(556x504x32 SW)>, <Surface(556x504x32 SW)>, <Surface(556x504x32 SW)>, <Surface(556x504x32 SW)>, <Surface(556x504x32 SW)>, <Surface(556x504x32 SW)>, <Surface(556x504x32 SW)>]\n"
     ]
    }
   ],
   "source": [
    "import pygame\n",
    "import glob\n",
    " \n",
    "SIZE = WIDTH, HEIGHT = 600, 600 #the width and height of our screen\n",
    "FPS = 9 #Frames per second\n",
    " \n",
    "class MySprite(pygame.sprite.Sprite):\n",
    "    def __init__(self):\n",
    "        super(MySprite, self).__init__()\n",
    "        \n",
    "        self.images = []\n",
    "        # self.images = [pygame.image.load(img) for img in glob.glob(\"pygame\\\\cat\\\\*.png\")]\n",
    "        for svo in svos:\n",
    "            action = stemmer.stem(svo[-1])\n",
    "            print(action)\n",
    "\n",
    "            self.images.extend([pygame.image.load(img) for img in glob.glob(\"pygame\\\\cat\\\\\" + action + \"*.png\")])\n",
    "            \n",
    "        print(self.images)\n",
    "        self.index = 0\n",
    "        self.rect = pygame.Rect(5, 5, 150, 198)\n",
    " \n",
    "    def update(self):\n",
    "        if self.index >= len(self.images):\n",
    "            self.index = 0\n",
    "        self.image = self.images[self.index]\n",
    "        self.index += 1\n",
    " \n",
    "def main():\n",
    "    pygame.init()\n",
    "    screen = pygame.display.set_mode(SIZE)\n",
    "    pygame.display.set_caption(\"Trace\")\n",
    "    my_sprite = MySprite()\n",
    "    my_group = pygame.sprite.Group(my_sprite)\n",
    "    clock = pygame.time.Clock()\n",
    "    loop = 1\n",
    "    while loop:\n",
    "        for event in pygame.event.get():\n",
    "            if event.type == pygame.QUIT:\n",
    "                loop = 0\n",
    " \n",
    "        my_group.update()\n",
    "        screen.fill((0,0,0))\n",
    "        my_group.draw(screen)\n",
    "        pygame.display.update()\n",
    "        clock.tick(FPS)\n",
    "    pygame.quit()\n",
    " \n",
    "if __name__ == '__main__':\n",
    "    main()"
   ]
  },
  {
   "cell_type": "markdown",
   "metadata": {},
   "source": [
    "# NER"
   ]
  },
  {
   "cell_type": "code",
   "execution_count": 45,
   "metadata": {},
   "outputs": [],
   "source": [
    "import spacy \n",
    "import spacy.cli\n",
    "# Download following once\n",
    "#spacy.cli.download(\"en_core_web_sm\")"
   ]
  },
  {
   "cell_type": "code",
   "execution_count": 46,
   "metadata": {},
   "outputs": [],
   "source": [
    "from spacy import displacy\n",
    "\n",
    "nlp = spacy.load('en_core_web_sm')"
   ]
  },
  {
   "cell_type": "code",
   "execution_count": 47,
   "metadata": {},
   "outputs": [
    {
     "name": "stdout",
     "output_type": "stream",
     "text": [
      "[('CS', 24, 26, 'GPE'), ('MIT', 48, 51, 'ORG')]\n"
     ]
    },
    {
     "data": {
      "text/html": [
       "<span class=\"tex2jax_ignore\"><div class=\"entities\" style=\"line-height: 2.5; direction: ltr\">Victoria was a major in \n",
       "<mark class=\"entity\" style=\"background: #feca74; padding: 0.45em 0.6em; margin: 0 0.25em; line-height: 1; border-radius: 0.35em;\">\n",
       "    CS\n",
       "    <span style=\"font-size: 0.8em; font-weight: bold; line-height: 1; border-radius: 0.35em; vertical-align: middle; margin-left: 0.5rem\">GPE</span>\n",
       "</mark>\n",
       ". Victoria studies at \n",
       "<mark class=\"entity\" style=\"background: #7aecec; padding: 0.45em 0.6em; margin: 0 0.25em; line-height: 1; border-radius: 0.35em;\">\n",
       "    MIT\n",
       "    <span style=\"font-size: 0.8em; font-weight: bold; line-height: 1; border-radius: 0.35em; vertical-align: middle; margin-left: 0.5rem\">ORG</span>\n",
       "</mark>\n",
       ".</div></span>"
      ],
      "text/plain": [
       "<IPython.core.display.HTML object>"
      ]
     },
     "metadata": {},
     "output_type": "display_data"
    }
   ],
   "source": [
    "text = \"Victoria was a major in CS. Victoria studies at MIT.\"\n",
    "doc = nlp(text)\n",
    "\n",
    "ents = [(e.text, e.start_char, e.end_char, e.label_) for e in doc.ents]\n",
    "print(ents)\n",
    "# now we use displaycy function on doc2\n",
    "displacy.render(doc, style='ent', jupyter=True)"
   ]
  },
  {
   "cell_type": "code",
   "execution_count": null,
   "metadata": {},
   "outputs": [],
   "source": []
  }
 ],
 "metadata": {
  "kernelspec": {
   "display_name": "Python 3.8.6 64-bit",
   "language": "python",
   "name": "python3"
  },
  "language_info": {
   "codemirror_mode": {
    "name": "ipython",
    "version": 3
   },
   "file_extension": ".py",
   "mimetype": "text/x-python",
   "name": "python",
   "nbconvert_exporter": "python",
   "pygments_lexer": "ipython3",
   "version": "3.8.6"
  },
  "orig_nbformat": 4,
  "vscode": {
   "interpreter": {
    "hash": "cad05eecb019473b6c28b666f572254e31a088fe7d36a952694ef4aed7752c76"
   }
  }
 },
 "nbformat": 4,
 "nbformat_minor": 2
}
